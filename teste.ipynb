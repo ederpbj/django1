print("Jupyter no PyCharm está funcionando!")

